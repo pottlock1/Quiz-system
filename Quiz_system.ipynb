{
 "cells": [
  {
   "cell_type": "code",
   "execution_count": 40,
   "id": "aggregate-commander",
   "metadata": {},
   "outputs": [],
   "source": [
    "## Quiz solution\n",
    "\n",
    "class Quiz:\n",
    "    def __init__(self, title, corr_ans):\n",
    "        self.title = title\n",
    "        self.__corr_ans = corr_ans\n",
    "        self.all_ans = {}\n",
    "    \n",
    "    def marks(self, entryno):\n",
    "        corr_ans = self._Quiz__corr_ans\n",
    "        std_ans = self.all_ans[entryno]\n",
    "        res = 0\n",
    "        for i, j in zip(corr_ans, std_ans):\n",
    "            if i == j:\n",
    "                res += 1\n",
    "            else:\n",
    "                pass\n",
    "        return res\n",
    "    \n",
    "class Course:\n",
    "    def __init__(self, coursecode, quizzes):\n",
    "        self.coursecode = coursecode\n",
    "        self.__quizzes = quizzes\n",
    "    \n",
    "    def returnquiz(self, quiztitle):\n",
    "        return _Course__quizzes[quiztitle]\n",
    "        \n",
    "class Student:\n",
    "    def __init__(self, entryno, courses):\n",
    "        self.entryno = entryno\n",
    "        self.__courses = courses\n",
    "    \n",
    "    def attempt(self, coursecode, quiztitle, attemptedanswer):\n",
    "        for course in self._Student__courses:\n",
    "            if course.coursecode == coursecode:\n",
    "                for quiz in course._Course__quizzes:\n",
    "                    if quiz.title == quiztitle: \n",
    "                        if self.entryno in quiz.all_ans:\n",
    "                            pass\n",
    "                        else:\n",
    "                            quiz.all_ans[self.entryno] = attemptedanswer\n",
    "                    else:\n",
    "                        pass\n",
    "            else:\n",
    "                pass\n",
    "            \n",
    "            \n",
    "    def getUnattemptedQuizzes(self):\n",
    "        res = []\n",
    "        for course in self._Student__courses:\n",
    "            for quiz in course._Course__quizzes:\n",
    "                if self.entryno in quiz.all_ans:\n",
    "                    pass\n",
    "                else:\n",
    "                    res.append((course.coursecode, quiz.title))\n",
    "        return res\n",
    "        \n",
    "    def getAverageScore(self, coursecode):\n",
    "        res = []\n",
    "        for course in self._Student__courses:\n",
    "            if course.coursecode == coursecode:\n",
    "                for quiz in course._Course__quizzes:\n",
    "                    if self.entryno in quiz.all_ans:\n",
    "                        res.append(quiz.marks(self.entryno))\n",
    "                    else:\n",
    "                        pass\n",
    "            else:\n",
    "                pass\n",
    "        return sum(res)/len(res)"
   ]
  },
  {
   "cell_type": "code",
   "execution_count": 41,
   "id": "rubber-county",
   "metadata": {},
   "outputs": [
    {
     "name": "stdout",
     "output_type": "stream",
     "text": [
      "2.0\n"
     ]
    }
   ],
   "source": [
    "col100q1 = Quiz('Quiz1', ['a', 'b', 'b'])\n",
    "col100q2 = Quiz('Quiz2', ['b', 'd', 'c'])\n",
    "col100 = Course('COL100', [col100q1, col100q2])\n",
    "\n",
    "mtl100q1 = Quiz('Quiz1', ['a', 'b', 'd'])\n",
    "mtl100q2 = Quiz('Quiz2', ['d', 'c', 'a'])\n",
    "mtl100 = Course('MTL100', [mtl100q1, mtl100q2])\n",
    "\n",
    "s1 = Student('2019MCS2562', [col100, mtl100])\n",
    "s2 = Student('2017CS10377', [col100])\n",
    "\n",
    "s2.attempt('COL100', 'Quiz1', ['a', 'b', 'c'])\n",
    "# print(s2.getUnattemptedQuizzes())\n",
    "print(s2.getAverageScore('COL100'))"
   ]
  },
  {
   "cell_type": "code",
   "execution_count": 66,
   "id": "distributed-probability",
   "metadata": {},
   "outputs": [],
   "source": [
    "## matrix solution\n",
    "\n",
    "class Matrix:\n",
    "    def __init__(self, a):\n",
    "        self.mat = a\n",
    "        \n",
    "    def __add__(self, b):\n",
    "        res = []\n",
    "        p = '{}&{}'.format(self.mat, b.mat)\n",
    "        m1 = self.mat\n",
    "        m2 = b.mat\n",
    "        for i, j in zip(m1, m2):\n",
    "            t = []\n",
    "            for p, q in zip(i, j):\n",
    "                t.append(p+q)\n",
    "            res.append(t)\n",
    "        return res\n",
    "    \n",
    "    def __sub__(self, b):\n",
    "        res = []\n",
    "        p = '{}&{}'.format(self.mat, b.mat)\n",
    "        m1 = self.mat\n",
    "        m2 = b.mat\n",
    "        for i, j in zip(m1, m2):\n",
    "            t = []\n",
    "            for p, q in zip(i, j):\n",
    "                t.append(p-q)\n",
    "            res.append(t)\n",
    "        return res\n",
    "    \n",
    "    def __mul__(self, b):\n",
    "        res = []\n",
    "        if type(b) == int:\n",
    "            p = '{}&{}'.format(self.mat, b)\n",
    "            m1 = self.mat\n",
    "            for i in m1:\n",
    "                t = []\n",
    "                for j in i:\n",
    "                    t.append(j*b)\n",
    "                res.append(t)\n",
    "        else:\n",
    "            p = '{}&{}'.format(self.mat, b.mat)\n",
    "            m1 = self.mat\n",
    "            m2 = b.mat\n",
    "            m, n = len(m1), len(m2[0])\n",
    "            for i in range(m):\n",
    "                t = []\n",
    "                for j in range(n):\n",
    "                    elem = 0\n",
    "                    for k in range(len(m2)):\n",
    "                        elem += m1[i][k]*m2[k][j]\n",
    "                    t.append(elem)\n",
    "                res.append(t)\n",
    "        return res\n",
    "    \n",
    "    def __str__(self):\n",
    "        res = ''\n",
    "        for i in range(len(self.mat)):\n",
    "            for j in range(len(self.mat[0])):\n",
    "                res = res + ' ' + str(self.mat[i][j])\n",
    "            res = res + '\\n'\n",
    "        return res"
   ]
  },
  {
   "cell_type": "code",
   "execution_count": null,
   "id": "present-carpet",
   "metadata": {},
   "outputs": [],
   "source": [
    "\n",
    "        \n",
    "        "
   ]
  },
  {
   "cell_type": "code",
   "execution_count": 68,
   "id": "structured-istanbul",
   "metadata": {
    "scrolled": true
   },
   "outputs": [
    {
     "name": "stdout",
     "output_type": "stream",
     "text": [
      " 1 2 3\n",
      " 2 3 4\n",
      " 3 4 5\n",
      "\n"
     ]
    }
   ],
   "source": []
  },
  {
   "cell_type": "code",
   "execution_count": 62,
   "id": "attached-complexity",
   "metadata": {},
   "outputs": [
    {
     "name": "stdout",
     "output_type": "stream",
     "text": [
      "a\n",
      "b\n"
     ]
    }
   ],
   "source": []
  }
 ],
 "metadata": {
  "kernelspec": {
   "display_name": "Python 3",
   "language": "python",
   "name": "python3"
  },
  "language_info": {
   "codemirror_mode": {
    "name": "ipython",
    "version": 3
   },
   "file_extension": ".py",
   "mimetype": "text/x-python",
   "name": "python",
   "nbconvert_exporter": "python",
   "pygments_lexer": "ipython3",
   "version": "3.8.6"
  }
 },
 "nbformat": 4,
 "nbformat_minor": 5
}
